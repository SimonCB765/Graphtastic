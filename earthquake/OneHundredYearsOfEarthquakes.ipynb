{
 "metadata": {
  "name": "",
  "signature": "sha256:b7fb46b0d0f8d6db8d647021d9984b1f410f4da4016de30549a33e4650c25780"
 },
 "nbformat": 3,
 "nbformat_minor": 0,
 "worksheets": [
  {
   "cells": [
    {
     "cell_type": "heading",
     "level": 1,
     "metadata": {},
     "source": [
      "Extract And Process Data"
     ]
    },
    {
     "cell_type": "markdown",
     "metadata": {},
     "source": [
      "First download the data from http://earthquake.usgs.gov/data/centennial/, and save it into the same directory as this noteboook. The data is in a fixed field format, so we will manually parse it to extract only those fields of interest."
     ]
    },
    {
     "cell_type": "code",
     "collapsed": false,
     "input": [
      "import pandas\n",
      "fileRawData = 'centennial_Y2K.CAT'\n",
      "earthquakeParsedData = []\n",
      "with open(fileRawData, 'r') as readFile:\n",
      "    # The fields that we are interested in are the year, month, day, latitude, longitude, magnitude and depth of the earthquake.\n",
      "    for line in readFile:\n",
      "        quake = {}\n",
      "        quake['Year'] = int(line[12:17])  # The year is always four numbers in width.\n",
      "        quake['Month'] = int(line[17:19].strip())  # The month can be one or two numbers (e.g. January is 1 not 01).\n",
      "        quake['Day'] = int(line[20:22].strip())  # The day can be one or two numbers (e.g. the first of the month is 1 not 01).\n",
      "        quake['Latitude'] = float(line[37:44].strip())  # Latitude ranges from -90 to 90 with 3 decimal places.\n",
      "        quake['Longitude'] = float(line[44:52].strip())  # Longitdue ranges from -180 to 180 with 3 decimal places.\n",
      "        quake['Depth'] = float(line[53:58].strip())  # The depth is a float no greater than 999.0.\n",
      "        quake['Magnitude'] = float(line[67:70].strip())  # The magnitude is between 5.5 and 9.9.\n",
      "        earthquakeParsedData.append(quake)\n",
      "earthquakes = pandas.DataFrame(earthquakeParsedData)\n",
      "earthquakes = earthquakes.sort(['Year', 'Month', 'Day'], ascending=True)  # Sort quakes by year then month then day.\n",
      "earthquakes.head()"
     ],
     "language": "python",
     "metadata": {},
     "outputs": [
      {
       "html": [
        "<div style=\"max-height:1000px;max-width:1500px;overflow:auto;\">\n",
        "<table border=\"1\" class=\"dataframe\">\n",
        "  <thead>\n",
        "    <tr style=\"text-align: right;\">\n",
        "      <th></th>\n",
        "      <th>Day</th>\n",
        "      <th>Depth</th>\n",
        "      <th>Latitude</th>\n",
        "      <th>Longitude</th>\n",
        "      <th>Magnitude</th>\n",
        "      <th>Month</th>\n",
        "      <th>Year</th>\n",
        "    </tr>\n",
        "  </thead>\n",
        "  <tbody>\n",
        "    <tr>\n",
        "      <th>0</th>\n",
        "      <td>  5</td>\n",
        "      <td>   0</td>\n",
        "      <td> -3.0</td>\n",
        "      <td> 102.0</td>\n",
        "      <td> 7.0</td>\n",
        "      <td> 1</td>\n",
        "      <td> 1900</td>\n",
        "    </tr>\n",
        "    <tr>\n",
        "      <th>1</th>\n",
        "      <td> 11</td>\n",
        "      <td>   0</td>\n",
        "      <td> -5.0</td>\n",
        "      <td> 148.0</td>\n",
        "      <td> 7.0</td>\n",
        "      <td> 1</td>\n",
        "      <td> 1900</td>\n",
        "    </tr>\n",
        "    <tr>\n",
        "      <th>2</th>\n",
        "      <td> 18</td>\n",
        "      <td>  35</td>\n",
        "      <td> 44.5</td>\n",
        "      <td> 148.5</td>\n",
        "      <td> 6.7</td>\n",
        "      <td> 1</td>\n",
        "      <td> 1900</td>\n",
        "    </tr>\n",
        "    <tr>\n",
        "      <th>3</th>\n",
        "      <td> 20</td>\n",
        "      <td>   0</td>\n",
        "      <td> 20.0</td>\n",
        "      <td>-105.0</td>\n",
        "      <td> 7.3</td>\n",
        "      <td> 1</td>\n",
        "      <td> 1900</td>\n",
        "    </tr>\n",
        "    <tr>\n",
        "      <th>4</th>\n",
        "      <td> 31</td>\n",
        "      <td> 450</td>\n",
        "      <td> 48.0</td>\n",
        "      <td> 146.0</td>\n",
        "      <td> 7.5</td>\n",
        "      <td> 1</td>\n",
        "      <td> 1900</td>\n",
        "    </tr>\n",
        "  </tbody>\n",
        "</table>\n",
        "</div>"
       ],
       "metadata": {},
       "output_type": "pyout",
       "prompt_number": 7,
       "text": [
        "   Day  Depth  Latitude  Longitude  Magnitude  Month  Year\n",
        "0    5      0      -3.0      102.0        7.0      1  1900\n",
        "1   11      0      -5.0      148.0        7.0      1  1900\n",
        "2   18     35      44.5      148.5        6.7      1  1900\n",
        "3   20      0      20.0     -105.0        7.3      1  1900\n",
        "4   31    450      48.0      146.0        7.5      1  1900"
       ]
      }
     ],
     "prompt_number": 7
    },
    {
     "cell_type": "heading",
     "level": 1,
     "metadata": {},
     "source": [
      "Setting Up The Map"
     ]
    },
    {
     "cell_type": "heading",
     "level": 1,
     "metadata": {},
     "source": [
      "Quake Animation"
     ]
    },
    {
     "cell_type": "heading",
     "level": 1,
     "metadata": {},
     "source": [
      "Putting It All Together"
     ]
    }
   ],
   "metadata": {}
  }
 ]
}